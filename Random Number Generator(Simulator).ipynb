{
 "cells": [
  {
   "cell_type": "code",
   "execution_count": 20,
   "metadata": {},
   "outputs": [
    {
     "name": "stdout",
     "output_type": "stream",
     "text": [
      "\n",
      "Total count for 00 and 11 are: {'0001': 66, '0111': 65, '1110': 54, '1001': 71, '1101': 72, '0010': 62, '1111': 67, '1100': 63, '0000': 54, '1000': 67, '1010': 62, '0101': 56, '0110': 61, '1011': 58, '0011': 62, '0100': 60}\n"
     ]
    },
    {
     "data": {
      "text/html": [
       "<pre style=\"word-wrap: normal;white-space: pre;background: #fff0;line-height: 1.1;font-family: &quot;Courier New&quot;,Courier,monospace\">        ┌───┐┌─┐         \n",
       "q_0: |0>┤ H ├┤M├─────────\n",
       "        ├───┤└╥┘┌─┐      \n",
       "q_1: |0>┤ H ├─╫─┤M├──────\n",
       "        ├───┤ ║ └╥┘┌─┐   \n",
       "q_2: |0>┤ H ├─╫──╫─┤M├───\n",
       "        ├───┤ ║  ║ └╥┘┌─┐\n",
       "q_3: |0>┤ H ├─╫──╫──╫─┤M├\n",
       "        └───┘ ║  ║  ║ └╥┘\n",
       " c_0: 0 ══════╩══╬══╬══╬═\n",
       "                 ║  ║  ║ \n",
       " c_1: 0 ═════════╩══╬══╬═\n",
       "                    ║  ║ \n",
       " c_2: 0 ════════════╩══╬═\n",
       "                       ║ \n",
       " c_3: 0 ═══════════════╩═\n",
       "                         </pre>"
      ],
      "text/plain": [
       "        ┌───┐┌─┐         \n",
       "q_0: |0>┤ H ├┤M├─────────\n",
       "        ├───┤└╥┘┌─┐      \n",
       "q_1: |0>┤ H ├─╫─┤M├──────\n",
       "        ├───┤ ║ └╥┘┌─┐   \n",
       "q_2: |0>┤ H ├─╫──╫─┤M├───\n",
       "        ├───┤ ║  ║ └╥┘┌─┐\n",
       "q_3: |0>┤ H ├─╫──╫──╫─┤M├\n",
       "        └───┘ ║  ║  ║ └╥┘\n",
       " c_0: 0 ══════╩══╬══╬══╬═\n",
       "                 ║  ║  ║ \n",
       " c_1: 0 ═════════╩══╬══╬═\n",
       "                    ║  ║ \n",
       " c_2: 0 ════════════╩══╬═\n",
       "                       ║ \n",
       " c_3: 0 ═══════════════╩═\n",
       "                         "
      ]
     },
     "execution_count": 20,
     "metadata": {},
     "output_type": "execute_result"
    }
   ],
   "source": [
    "from qiskit import(\n",
    "  QuantumCircuit,\n",
    "  execute,\n",
    "  Aer)\n",
    "from qiskit.visualization import plot_histogram\n",
    "\n",
    "# Use Aer's qasm_simulator\n",
    "simulator = Aer.get_backend('qasm_simulator')\n",
    "\n",
    "# Create a Quantum Circuit acting on the q register\n",
    "circuit = QuantumCircuit(4, 4)\n",
    "\n",
    "# Add a H gate on qubit 0\n",
    "circuit.h(0)\n",
    "circuit.h(1)\n",
    "circuit.h(2)\n",
    "circuit.h(3)\n",
    "\n",
    "\n",
    "# Add a CX (CNOT) gate on control qubit 0 and target qubit 1\n",
    "#circuit.cx(0, 1)\n",
    "\n",
    "# Map the quantum measurement to the classical bits\n",
    "circuit.measure([0,1,2,3], [0,1,2,3])\n",
    "\n",
    "# Execute the circuit on the qasm simulator\n",
    "job = execute(circuit, simulator, shots=1000)\n",
    "\n",
    "# Grab results from the job\n",
    "result = job.result()\n",
    "\n",
    "# Returns counts\n",
    "counts = result.get_counts(circuit)\n",
    "print(\"\\nTotal count for 00 and 11 are:\",counts)\n",
    "\n",
    "# Draw the circuit\n",
    "circuit.draw()"
   ]
  },
  {
   "cell_type": "code",
   "execution_count": 26,
   "metadata": {},
   "outputs": [
    {
     "ename": "ImportError",
     "evalue": "Must have Matplotlib installed.",
     "output_type": "error",
     "traceback": [
      "\u001b[0;31m---------------------------------------------------------------------------\u001b[0m",
      "\u001b[0;31mImportError\u001b[0m                               Traceback (most recent call last)",
      "\u001b[0;32m<ipython-input-26-3204ffbbb5b4>\u001b[0m in \u001b[0;36m<module>\u001b[0;34m\u001b[0m\n\u001b[0;32m----> 1\u001b[0;31m \u001b[0mplot_histogram\u001b[0m\u001b[0;34m(\u001b[0m\u001b[0mjob\u001b[0m\u001b[0;34m.\u001b[0m\u001b[0mresult\u001b[0m\u001b[0;34m(\u001b[0m\u001b[0;34m)\u001b[0m\u001b[0;34m.\u001b[0m\u001b[0mget_counts\u001b[0m\u001b[0;34m(\u001b[0m\u001b[0;34m)\u001b[0m\u001b[0;34m,\u001b[0m \u001b[0mcolor\u001b[0m\u001b[0;34m=\u001b[0m\u001b[0;34m'midnightblue'\u001b[0m\u001b[0;34m,\u001b[0m \u001b[0mtitle\u001b[0m\u001b[0;34m=\u001b[0m\u001b[0;34m\"New Histogram\"\u001b[0m\u001b[0;34m)\u001b[0m\u001b[0;34m\u001b[0m\u001b[0;34m\u001b[0m\u001b[0m\n\u001b[0m",
      "\u001b[0;32m~/ibmqskit/lib/python3.7/site-packages/qiskit/visualization/counts_visualization.py\u001b[0m in \u001b[0;36mplot_histogram\u001b[0;34m(data, figsize, color, number_to_keep, sort, target_string, legend, bar_labels, title, ax)\u001b[0m\n\u001b[1;32m    102\u001b[0m     \"\"\"\n\u001b[1;32m    103\u001b[0m     \u001b[0;32mif\u001b[0m \u001b[0;32mnot\u001b[0m \u001b[0mHAS_MATPLOTLIB\u001b[0m\u001b[0;34m:\u001b[0m\u001b[0;34m\u001b[0m\u001b[0;34m\u001b[0m\u001b[0m\n\u001b[0;32m--> 104\u001b[0;31m         \u001b[0;32mraise\u001b[0m \u001b[0mImportError\u001b[0m\u001b[0;34m(\u001b[0m\u001b[0;34m'Must have Matplotlib installed.'\u001b[0m\u001b[0;34m)\u001b[0m\u001b[0;34m\u001b[0m\u001b[0;34m\u001b[0m\u001b[0m\n\u001b[0m\u001b[1;32m    105\u001b[0m     \u001b[0;32mif\u001b[0m \u001b[0msort\u001b[0m \u001b[0;32mnot\u001b[0m \u001b[0;32min\u001b[0m \u001b[0mVALID_SORTS\u001b[0m\u001b[0;34m:\u001b[0m\u001b[0;34m\u001b[0m\u001b[0;34m\u001b[0m\u001b[0m\n\u001b[1;32m    106\u001b[0m         raise VisualizationError(\"Value of sort option, %s, isn't a \"\n",
      "\u001b[0;31mImportError\u001b[0m: Must have Matplotlib installed."
     ]
    }
   ],
   "source": [
    "plot_histogram(job.result().get_counts(), color='midnightblue', title=\"New Histogram\")"
   ]
  },
  {
   "cell_type": "code",
   "execution_count": 25,
   "metadata": {},
   "outputs": [
    {
     "name": "stdout",
     "output_type": "stream",
     "text": [
      "Requirement already satisfied: matplotlib in /Users/hackx/ibmqskit/lib/python3.7/site-packages (3.1.3)\r\n",
      "Requirement already satisfied: kiwisolver>=1.0.1 in /Users/hackx/ibmqskit/lib/python3.7/site-packages (from matplotlib) (1.1.0)\r\n",
      "Requirement already satisfied: numpy>=1.11 in /Users/hackx/ibmqskit/lib/python3.7/site-packages (from matplotlib) (1.18.1)\r\n",
      "Requirement already satisfied: python-dateutil>=2.1 in /Users/hackx/ibmqskit/lib/python3.7/site-packages (from matplotlib) (2.8.1)\r\n",
      "Requirement already satisfied: cycler>=0.10 in /Users/hackx/ibmqskit/lib/python3.7/site-packages (from matplotlib) (0.10.0)\r\n",
      "Requirement already satisfied: pyparsing!=2.0.4,!=2.1.2,!=2.1.6,>=2.0.1 in /Users/hackx/ibmqskit/lib/python3.7/site-packages (from matplotlib) (2.4.6)\r\n",
      "Requirement already satisfied: setuptools in /Users/hackx/ibmqskit/lib/python3.7/site-packages (from kiwisolver>=1.0.1->matplotlib) (45.2.0)\r\n",
      "Requirement already satisfied: six>=1.5 in /Users/hackx/ibmqskit/lib/python3.7/site-packages (from python-dateutil>=2.1->matplotlib) (1.14.0)\r\n"
     ]
    },
    {
     "ename": "ModuleNotFoundError",
     "evalue": "No module named 'matplolib'",
     "output_type": "error",
     "traceback": [
      "\u001b[0;31m---------------------------------------------------------------------------\u001b[0m",
      "\u001b[0;31mModuleNotFoundError\u001b[0m                       Traceback (most recent call last)",
      "\u001b[0;32m<ipython-input-25-b2f6b474bf73>\u001b[0m in \u001b[0;36m<module>\u001b[0;34m\u001b[0m\n\u001b[1;32m      1\u001b[0m \u001b[0mget_ipython\u001b[0m\u001b[0;34m(\u001b[0m\u001b[0;34m)\u001b[0m\u001b[0;34m.\u001b[0m\u001b[0msystem\u001b[0m\u001b[0;34m(\u001b[0m\u001b[0;34m'pip install matplotlib'\u001b[0m\u001b[0;34m)\u001b[0m\u001b[0;34m\u001b[0m\u001b[0;34m\u001b[0m\u001b[0m\n\u001b[0;32m----> 2\u001b[0;31m \u001b[0;32mimport\u001b[0m \u001b[0mmatplolib\u001b[0m\u001b[0;34m\u001b[0m\u001b[0;34m\u001b[0m\u001b[0m\n\u001b[0m",
      "\u001b[0;31mModuleNotFoundError\u001b[0m: No module named 'matplolib'"
     ]
    }
   ],
   "source": [
    "!pip install matplotlib\n",
    "import matplolib"
   ]
  },
  {
   "cell_type": "code",
   "execution_count": null,
   "metadata": {},
   "outputs": [],
   "source": []
  }
 ],
 "metadata": {
  "kernelspec": {
   "display_name": "Python 3",
   "language": "python",
   "name": "python3"
  },
  "language_info": {
   "codemirror_mode": {
    "name": "ipython",
    "version": 3
   },
   "file_extension": ".py",
   "mimetype": "text/x-python",
   "name": "python",
   "nbconvert_exporter": "python",
   "pygments_lexer": "ipython3",
   "version": "3.7.6"
  }
 },
 "nbformat": 4,
 "nbformat_minor": 4
}
